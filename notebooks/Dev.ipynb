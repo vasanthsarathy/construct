{
 "cells": [
  {
   "cell_type": "markdown",
   "id": "8bcebc4d",
   "metadata": {},
   "source": [
    "# Wrappers\n",
    "\n",
    "pddlgym expects certain specific class info \n",
    "\n",
    "`StringWrapper` allows us to give this as a string. E.g., `\"move(tree1_7:tree1, crafting_table1_5:crafting_table1)\"`\n",
    "\n",
    "`PyperWrapper` for pyperplan compatibility"
   ]
  },
  {
   "cell_type": "code",
   "execution_count": null,
   "id": "35f91e45",
   "metadata": {},
   "outputs": [],
   "source": [
    "# String Wrappers \n",
    "## For stringifying stuff to pddlgym\n",
    "\n",
    "import gym\n",
    "from pddlgym.structs import Predicate, Literal, TypedEntity, Type\n",
    "\n",
    "class StringWrapper(gym.Wrapper):\n",
    "    \"\"\"\n",
    "    Allows for providing actions as strings rather than the pddlgym representation\n",
    "    \"\"\"\n",
    "    def __init__(self, env):\n",
    "        super().__init__(env)\n",
    "        self.env = env\n",
    "        self.current_state = None\n",
    "        \n",
    "    def reset(self, **kwargs):\n",
    "        obs = self.env.reset(**kwargs)\n",
    "        self.current_state = obs\n",
    "        return obs\n",
    "\n",
    "    def step(self,action_str):\n",
    "        action = self._str_to_action(action_str)\n",
    "        print(f\"Action: {action}\", type(action))\n",
    "        next_state, reward, done, info = self.env.step(action)\n",
    "        self.current_state = next_state\n",
    "        return next_state, reward, done, info\n",
    "    \n",
    "    def observe(self):\n",
    "        return self.current_state\n",
    "\n",
    "    def _str_to_action(self, action_str):\n",
    "        name = action_str.split(\"(\")[0]\n",
    "        args = action_str.split(\"(\")[1].split(\")\")[0].split(\",\")\n",
    "        objs = []\n",
    "        for arg in args:\n",
    "            arg = arg.replace(\" \",\"\")\n",
    "            obj_type_str = arg.split(\":\")[1]\n",
    "            obj_const_str = arg.split(\":\")[0]\n",
    "\n",
    "            obj_type = Type(obj_type_str)\n",
    "            obj_const = obj_type(obj_const_str)\n",
    "            objs.append(obj_const)\n",
    "        actionP = Predicate(name, len(args))\n",
    "        action = Literal(actionP, objs)\n",
    "        return action\n",
    "     "
   ]
  },
  {
   "cell_type": "code",
   "execution_count": null,
   "id": "12a600a3",
   "metadata": {},
   "outputs": [],
   "source": [
    "import pddlgym\n",
    "\n",
    "env = pddlgym.make('PDDLEnvTreasure-v0')\n",
    "env = StringWrapper(env)\n",
    "env.reset()\n",
    "obs = env.observe()\n",
    "print(obs)\n",
    "action = \"move(r1:r,q3:q)\"\n",
    "obs,_,_,_ = env.step(action)\n",
    "print(obs)\n"
   ]
  },
  {
   "cell_type": "code",
   "execution_count": 51,
   "id": "b9b7ac2a",
   "metadata": {},
   "outputs": [],
   "source": [
    "# pyperplan wrapper \n",
    "\n",
    "import gym\n",
    "import pddlgym.structs as pgym \n",
    "import pyperplan.pddl.pddl as pyper\n",
    "\n",
    "\n",
    "# pyperplan wrapper\n",
    "class PyperWrapper(gym.Wrapper):\n",
    "    \"\"\"\n",
    "    Allows for translating between pddlgym and pyperplan representations.\n",
    "    Can run pyperplan solutions in pddlgym\n",
    "    Can read pddlgym output in pyperplan state representation\n",
    "    \"\"\"\n",
    "    def __init__(self, env):\n",
    "        super().__init__(env)\n",
    "        self.env = env\n",
    "        self.current_state = None  # going to be in default pddlgym representation\n",
    "        self.root_object_type = pyper.Type(\"object\",None)\n",
    "        self.history = [] #In pyperplan format\n",
    "\n",
    "    def reset(self, **kwargs):\n",
    "        obs = self.env.reset(**kwargs)\n",
    "        self.current_state = obs\n",
    "        return self.observe()\n",
    "\n",
    "\n",
    "    def observe(self, source='pypertask'):\n",
    "        if source == 'pyperpred':\n",
    "            return self._obs_pddlgym_to_pyper(self.current_state)\n",
    "        if source == 'pddlgym':\n",
    "            return self.current_state\n",
    "        if source == 'pypertask':\n",
    "            return self._obs_pddlgym_to_pypertask(self.current_state)\n",
    "        raise ValueError(\"source must be either 'pyper' or 'pddlgym'\")\n",
    "\n",
    "\n",
    "\n",
    "    def objects(self):\n",
    "        \"\"\"\n",
    "        Returns all the objects in the current state\n",
    "        \"\"\"\n",
    "        objects = {}\n",
    "        objs = self.current_state[0].objects\n",
    "        for o in set(objs):\n",
    "            key = o.name\n",
    "            type_name = str(o.var_type)\n",
    "            value = pyper.Type(type_name, self.root_object_type)\n",
    "            objects.update({key : value})\n",
    "        return objects\n",
    "\n",
    "\n",
    "\n",
    "    def step(self,action):\n",
    "        action_pddlgym = self._action_pyper_to_pddlgym(action)\n",
    "        next_state = self.env.step(action_pddlgym)\n",
    "        self.history.append(action)\n",
    "        self.current_state = next_state\n",
    "\n",
    "        return self.observe()\n",
    "\n",
    "    def get_history(self):\n",
    "        return self.history\n",
    "\n",
    "    def _action_pyper_to_pddlgym(self, action):\n",
    "        \"\"\"\n",
    "        (move p3 k1) --> pddlgym representation\n",
    "        \"\"\"\n",
    "        name = action.replace(\"(\",\"\").replace(\")\",\"\").split(\" \")[0]\n",
    "        objs = set(self.current_state[0].objects)\n",
    "        args = action.replace(\"(\",\"\").replace(\")\",\"\").split(\" \")[1:]\n",
    "        arity = len(args)\n",
    "        typed_args = [ (lambda x: [x for x in objs if x == y][0])(y) for y in args]\n",
    "        action_pddlgym = pgym.Literal(pgym.Predicate(name, arity), typed_args)\n",
    "        return action_pddlgym\n",
    "\n",
    "\n",
    "    def _obs_pddlgym_to_pyper(self, obs):\n",
    "        predicates = []\n",
    "        for item in set(obs[0].literals):\n",
    "            name = str(item).split(\"(\")[0]\n",
    "            list_args_str = str(item).split(\"(\")[1].split(\")\")[0].split(\",\")\n",
    "            signature = [(x.split(\":\")[0], [pyper.Type(x.split(\":\")[1], self.root_object_type)]) for x in list_args_str]\n",
    "            pred = pyper.Predicate(name, signature)\n",
    "            predicates.append(pred)\n",
    "        return predicates\n",
    "\n",
    "    \n",
    "    \n",
    "    def _obs_pddlgym_to_pypertask(self, obs):\n",
    "        literals = []\n",
    "        for item in set(obs[0].literals):\n",
    "            name = str(item).split(\"(\")[0]\n",
    "            list_args_str = str(item).split(\"(\")[1].split(\")\")[0].split(\",\")\n",
    "            new_args = [x.split(\":\")[0] for x in list_args_str]\n",
    "            new_lit = \"(\"+name+\" \"+\" \".join(new_args)+\")\"\n",
    "            literals.append(new_lit)\n",
    "        return frozenset(literals)\n",
    "\n",
    "    \n",
    "        # DEPRECATED\n",
    "    def __get_type(self, constant):\n",
    "        # look at current state \n",
    "        obj_strs = [str(x) for x in set(self.current_state[0].objects)]\n",
    "        obj_types = [x.split(\":\")[1] for x in obj_strs if constant+\":\" in x]\n",
    "        if len(obj_types) == 1:\n",
    "            return obj_types[0]\n",
    "        raise ValueError\n",
    "    "
   ]
  },
  {
   "cell_type": "code",
   "execution_count": 52,
   "id": "e2d9449b",
   "metadata": {},
   "outputs": [
    {
     "name": "stdout",
     "output_type": "stream",
     "text": [
      "Init: frozenset({'(inworld b2)', '(inworld r2)', '(inworld r1)', '(inworld p1)', '(at r1)', '(inworld p5)', '(in s1 b1)', '(in s2 b2)', '(inworld p3)', '(inworld b3)', '(inworld q1)', '(inworld q3)', '(inworld p2)', '(inworld q5)', '(inworld q2)', '(inworld b1)', '(inworld q4)', '(inworld p4)'})\n",
      "\n",
      "OBJECTS = {'q4': q, 'p2': p, 'b3': b, 'p1': p, 'b1': b, 'q3': q, 'p3': p, 'q2': q, 'r1': r, 'p4': p, 's2': s, 'q5': q, 'b2': b, 's1': s, 'q1': q, 'r2': r, 'p5': p}\n",
      "Final: frozenset({'(inworld b2)', '(inworld r2)', '(inworld r1)', '(inworld p1)', '(in s1 b1)', '(inworld p5)', '(inworld b3)', '(in s2 b2)', '(inworld p3)', '(at q4)', '(inworld q1)', '(inworld q3)', '(inworld p2)', '(inworld q5)', '(inworld q2)', '(inworld b1)', '(inworld q4)', '(inworld p4)'})\n",
      "\n",
      "Observe: frozenset({'(inworld b2)', '(inworld r2)', '(inworld r1)', '(inworld p1)', '(in s1 b1)', '(inworld p5)', '(inworld b3)', '(in s2 b2)', '(inworld p3)', '(at q4)', '(inworld q1)', '(inworld q3)', '(inworld p2)', '(inworld q5)', '(inworld q2)', '(inworld b1)', '(inworld q4)', '(inworld p4)'})\n",
      "\n",
      "Observe (pddlgym): (State(literals=frozenset({in(s2:s,b2:b), inworld(p3:p), inworld(q1:q), inworld(p1:p), inworld(p4:p), inworld(p5:p), inworld(b2:b), at(q4:q), in(s1:s,b1:b), inworld(r2:r), inworld(b1:b), inworld(q2:q), inworld(r1:r), inworld(b3:b), inworld(q3:q), inworld(p2:p), inworld(q4:q), inworld(q5:q)}), objects=frozenset({q3:q, q4:q, q1:q, p2:p, p3:p, q2:q, r1:r, b3:b, p4:p, s2:s, q5:q, b2:b, s1:s, p1:p, r2:r, b1:b, p5:p}), goal=have(p1:p)), 0.0, False, {'problem_file': '/home/vsarathy/.cache/pypoetry/virtualenvs/construct-VivzdgmF-py3.8/lib/python3.8/site-packages/pddlgym/pddl/treasure/problem01.pddl', 'domain_file': '/home/vsarathy/.cache/pypoetry/virtualenvs/construct-VivzdgmF-py3.8/lib/python3.8/site-packages/pddlgym/pddl/treasure.pddl'})\n",
      "\n",
      "Observe (task): frozenset({'(inworld b2)', '(inworld r2)', '(inworld r1)', '(inworld p1)', '(in s1 b1)', '(inworld p5)', '(inworld b3)', '(in s2 b2)', '(inworld p3)', '(at q4)', '(inworld q1)', '(inworld q3)', '(inworld p2)', '(inworld q5)', '(inworld q2)', '(inworld b1)', '(inworld q4)', '(inworld p4)'})\n",
      "\n",
      "Observe (pred): [in[('s2', [s]), ('b2', [b])], inworld[('p3', [p])], inworld[('q1', [q])], inworld[('p1', [p])], inworld[('p4', [p])], inworld[('p5', [p])], inworld[('b2', [b])], at[('q4', [q])], in[('s1', [s]), ('b1', [b])], inworld[('r2', [r])], inworld[('b1', [b])], inworld[('q2', [q])], inworld[('r1', [r])], inworld[('b3', [b])], inworld[('q3', [q])], inworld[('p2', [p])], inworld[('q4', [q])], inworld[('q5', [q])]]\n",
      "\n",
      "Objects: {'q4': q, 'p2': p, 'b3': b, 'p1': p, 'b1': b, 'q3': q, 'p3': p, 'q2': q, 'r1': r, 'p4': p, 's2': s, 'q5': q, 'b2': b, 's1': s, 'q1': q, 'r2': r, 'p5': p}\n",
      "History: ['(move r1 b3)', '(move b3 q4)']\n"
     ]
    }
   ],
   "source": [
    "import pddlgym\n",
    "\n",
    "env = pddlgym.make('PDDLEnvTreasure-v0')\n",
    "env = PyperWrapper(env)\n",
    "obs = env.reset()\n",
    "print(f\"Init: {obs}\\n\")\n",
    "\n",
    "print(f\"OBJECTS = {env.objects()}\")\n",
    "\n",
    "action = '(move r1 b3)'\n",
    "obs= env.step(action)\n",
    "action = '(move b3 q4)'\n",
    "obs= env.step(action)\n",
    "print(f\"Final: {obs}\\n\")\n",
    "\n",
    "obs = env.observe()\n",
    "print(f\"Observe: {obs}\\n\")\n",
    "\n",
    "obs = env.observe(source=\"pddlgym\")\n",
    "print(f\"Observe (pddlgym): {obs}\\n\")\n",
    "\n",
    "obs = env.observe(source=\"pypertask\")\n",
    "print(f\"Observe (task): {obs}\\n\")\n",
    "\n",
    "obs = env.observe(source=\"pyperpred\")\n",
    "print(f\"Observe (pred): {obs}\\n\")\n",
    "\n",
    "objs = env.objects()\n",
    "print(f\"Objects: {objs}\")\n",
    "\n",
    "h = env.get_history()\n",
    "print(f\"History: {h}\")\n"
   ]
  },
  {
   "cell_type": "markdown",
   "id": "ba489c5a",
   "metadata": {},
   "source": [
    "# Checking predicates in states"
   ]
  },
  {
   "cell_type": "code",
   "execution_count": 146,
   "id": "73c1f9c8",
   "metadata": {},
   "outputs": [],
   "source": [
    "from pyperplan.pddl.pddl import Predicate, Type\n",
    "\n",
    "root_object_type = Type(\"object\",None)\n",
    "def _parse_predicate(pred_str):\n",
    "        \"\"\"\n",
    "        Assume a predicate string\n",
    "        \"(have ?x-t)\" or \"(have p1-p)\" or \"(on a-block b-block) or (inworld p2)\"\n",
    "        \"\"\"\n",
    "        name = pred_str.replace(\"(\",\"\").replace(\")\",\"\").split(\" \")[0]\n",
    "        args = pred_str.replace(\"(\",\"\").replace(\")\",\"\").split(\" \")[1:]\n",
    "        signature = []\n",
    "        grounded = True\n",
    "        for arg in args:\n",
    "            if \"-\" in arg:\n",
    "                sym = arg.split(\"-\")[0]\n",
    "                if \"?\" in sym:\n",
    "                    grounded = False\n",
    "                typing = arg.split(\"-\")[1]\n",
    "                signature.append((sym, [Type(typing,root_object_type)]))\n",
    "            else:\n",
    "                if \"?\" in arg:\n",
    "                    raise ValueError(\"Must provide at least one of constant or a type\")\n",
    "                objs = env.objects() #CHANGE TO self.env                \n",
    "                typing = objs[arg]\n",
    "                signature.append((arg, [typing]))\n",
    "        return Predicate(name, signature)\n"
   ]
  },
  {
   "cell_type": "code",
   "execution_count": 151,
   "id": "03ed1e61",
   "metadata": {},
   "outputs": [
    {
     "name": "stdout",
     "output_type": "stream",
     "text": [
      "inworld\n",
      "[('?x', [p])]\n",
      "inworld[('?x', [p])]\n"
     ]
    }
   ],
   "source": [
    "out = _parse_predicate(\"(inworld ?x-p)\")\n",
    "print(out.name)\n",
    "print(out.signature)\n",
    "print(str(out))"
   ]
  },
  {
   "cell_type": "code",
   "execution_count": 163,
   "id": "d77787a8",
   "metadata": {},
   "outputs": [],
   "source": [
    "import random\n",
    "import uuid\n",
    "import copy\n",
    "\n",
    "def _assign_symbol(predicate): # ADD SELF\n",
    "    \"\"\"\n",
    "    Replaces ?x with either a hypothetical or with an object from the domain \n",
    "    \"\"\"\n",
    "    predicate_copy = copy.deepcopy(predicate)\n",
    "    # Flip objects dictionary to be keyed to type name\n",
    "    objs = env.objects()  # CHANGE TO SELF.ENV\n",
    "    type_keyed_objs = {}\n",
    "    for k,v in objs.items():\n",
    "        type_keyed_objs[v.name]= type_keyed_objs.get(v.name,[])\n",
    "        type_keyed_objs[v.name].append(k)\n",
    "    print(type_keyed_objs)\n",
    "    \n",
    "    updated_signature = []\n",
    "    for term,typing in predicate_copy.signature:\n",
    "        if \"?\" in term:\n",
    "            # check if env objects have an object of type\n",
    "            if typing[0].name in type_keyed_objs:\n",
    "                # randomly assign\n",
    "                used_term = random.choice(type_keyed_objs[typing[0].name])\n",
    "                updated_signature.append((used_term, [typing[0]]))\n",
    "            else:\n",
    "                # hypothetical name \n",
    "                hypo_term = typing[0].name+\"_\"+str(uuid.uuid4())[:8]\n",
    "                updated_signature.append((hypo_term, [typing[0]]))\n",
    "        else:\n",
    "             updated_signature.append((term, [typing[0]])) \n",
    "    predicate_copy.signature = updated_signature\n",
    "    return predicate_copy\n",
    "                \n",
    "    \n",
    "    "
   ]
  },
  {
   "cell_type": "code",
   "execution_count": 164,
   "id": "2c1b2cf4",
   "metadata": {},
   "outputs": [
    {
     "name": "stdout",
     "output_type": "stream",
     "text": [
      "{'p': ['p4', 'p3', 'p5', 'p2', 'p1'], 'r': ['r1'], 's': ['-r', 's2', 's1', 'r2'], 'b': ['b3', 'b2', 'b1'], 'q': ['q3', 'q4', 'q2', 'q1', 'q5'], 'k': ['k1', 'k2'], 't': ['t1']}\n"
     ]
    },
    {
     "data": {
      "text/plain": [
       "inworld[('p4', [p])]"
      ]
     },
     "execution_count": 164,
     "metadata": {},
     "output_type": "execute_result"
    }
   ],
   "source": [
    "_assign_symbol(out)"
   ]
  },
  {
   "cell_type": "markdown",
   "id": "70124a13",
   "metadata": {},
   "source": [
    "# Alternative approach \n",
    "\n",
    "grounding goal from strings"
   ]
  },
  {
   "cell_type": "code",
   "execution_count": 26,
   "id": "b7107429",
   "metadata": {},
   "outputs": [],
   "source": [
    "import random\n",
    "\n",
    "def _ground_goal( atom_str):\n",
    "    \"\"\"\n",
    "    Given an atom (have ?x-t) or (have t23) or (on ?x-t y24-y)  or (have ?t34-t)\n",
    "    Return (have t23)\n",
    "    \"\"\"\n",
    "\n",
    "    objs = env.objects()  # CHANGE TO SELF.ENV\n",
    "    type_keyed_objs = {}\n",
    "    for k,v in objs.items():\n",
    "        type_keyed_objs[v.name]= type_keyed_objs.get(v.name,[])\n",
    "        type_keyed_objs[v.name].append(k)\n",
    "\n",
    "    name = atom_str.replace(\"(\",\"\").replace(\")\",\"\").split(\" \")[0]\n",
    "    args = atom_str.replace(\"(\",\"\").replace(\")\",\"\").split(\" \")[1:]\n",
    "    new_args = []\n",
    "    for arg in args:\n",
    "        if \"?\" in arg:\n",
    "            if \"-\" in arg:\n",
    "                typing = arg.split(\"-\")[1]\n",
    "                if typing in type_keyed_objs:\n",
    "                    # Assign random name \n",
    "                    new_sym = random.choice(type_keyed_objs[typing])\n",
    "                    new_args.append(f\"{new_sym}\")\n",
    "                else:\n",
    "                    # Assign hypothetical name \n",
    "                    hypo_sym = f\"{typing}_{str(uuid.uuid4())[:8]}\"\n",
    "                    new_args.append(f\"{hypo_sym}\")\n",
    "            else:\n",
    "                raise ValueError(\"Must provide at least one of constant or a type\")\n",
    "        else:\n",
    "            if \"-\" in arg:\n",
    "                new_arg = arg.split(\"-\")[0]\n",
    "                new_args.append(new_arg)\n",
    "            else:\n",
    "                new_args.append(arg)\n",
    "  \n",
    "    new_atom = \"(\"+name+\" \"+\" \".join(new_args)+\")\"\n",
    "    return new_atom\n",
    "\n"
   ]
  },
  {
   "cell_type": "code",
   "execution_count": 35,
   "id": "ac7f5812",
   "metadata": {},
   "outputs": [
    {
     "data": {
      "text/plain": [
       "'(have p4)'"
      ]
     },
     "execution_count": 35,
     "metadata": {},
     "output_type": "execute_result"
    }
   ],
   "source": [
    "_ground_goal(\"have ?x-p)\")"
   ]
  },
  {
   "cell_type": "code",
   "execution_count": 40,
   "id": "e231d3d9",
   "metadata": {},
   "outputs": [
    {
     "data": {
      "text/plain": [
       "(State(literals=frozenset({inworld(p1:p), inworld(q2:q), inworld(p3:p), inworld(q1:q), inworld(q4:q), inworld(r2:r), inworld(q3:q), inworld(b3:b), inworld(b1:b), in(s2:s,b2:b), inworld(b2:b), inworld(q5:q), in(s1:s,b1:b), inworld(r1:r), inworld(p2:p), inworld(p5:p), inworld(p4:p), at(q4:q)}), objects=frozenset({p1:p, q4:q, s1:s, p2:p, t1:t, k1:k, s2:s, q5:q, b3:b, k2:k, p5:p, q1:q, r2:r, p3:p, b2:b, q3:q, b1:b, r1:r, q2:q, p4:p}), goal=have(t1:t)),\n",
       " 0.0,\n",
       " False,\n",
       " {'problem_file': '/home/vsarathy/.cache/pypoetry/virtualenvs/construct-VivzdgmF-py3.8/lib/python3.8/site-packages/pddlgym/pddl/treasure/problem01.pddl',\n",
       "  'domain_file': '/home/vsarathy/.cache/pypoetry/virtualenvs/construct-VivzdgmF-py3.8/lib/python3.8/site-packages/pddlgym/pddl/treasure.pddl'})"
      ]
     },
     "execution_count": 40,
     "metadata": {},
     "output_type": "execute_result"
    }
   ],
   "source": [
    "env.observe(source=\"pddlgym\")"
   ]
  },
  {
   "cell_type": "code",
   "execution_count": 48,
   "id": "4670edf8",
   "metadata": {},
   "outputs": [
    {
     "data": {
      "text/plain": [
       "'a c b'"
      ]
     },
     "execution_count": 48,
     "metadata": {},
     "output_type": "execute_result"
    }
   ],
   "source": [
    "a = {\"a\", \"b\", \"c\"}\n",
    "\" \".join(a)"
   ]
  },
  {
   "cell_type": "code",
   "execution_count": 55,
   "id": "64592799",
   "metadata": {},
   "outputs": [
    {
     "data": {
      "text/plain": [
       "'p1 - p q4 - q k2 - k p5 - p s1 - s q1 - q p2 - p t1 - t k1 - k r2 - r p3 - p b2 - b s2 - s q5 - q q3 - q b1 - b r1 - r q2 - q b3 - b p4 - p'"
      ]
     },
     "execution_count": 55,
     "metadata": {},
     "output_type": "execute_result"
    }
   ],
   "source": [
    "strings = []\n",
    "for k,v in env.objects().items():\n",
    "    strings.append(f\"{k} - {v}\")\n",
    "\" \".join(strings)"
   ]
  },
  {
   "cell_type": "markdown",
   "id": "452c883f",
   "metadata": {},
   "source": [
    "# Crafting trees\n",
    "\n",
    "Each node has a type and label\n"
   ]
  },
  {
   "cell_type": "code",
   "execution_count": 2,
   "id": "6174ebfb",
   "metadata": {},
   "outputs": [],
   "source": [
    "import networkx as nx"
   ]
  },
  {
   "cell_type": "code",
   "execution_count": 8,
   "id": "90d2f10b",
   "metadata": {},
   "outputs": [],
   "source": [
    "tree = nx.DiGraph()\n",
    "tree.add_node('k', type='tnode', value='have')\n",
    "tree.add_node('p', type='tnode', value='have')\n",
    "tree.add_node('q', type='tnode', value='have')\n",
    "tree.add_node('t', type='tnode', value='have')\n",
    "tree.add_node('s', type='tnode', value='have')\n",
    "tree.add_node('craftt', type='anode')\n",
    "tree.add_node('craftk', type='anode')\n",
    "\n",
    "tree.add_edge('p','craftk')\n",
    "tree.add_edge('q','craftk')\n",
    "tree.add_edge('craftk','k')\n",
    "\n",
    "tree.add_edge('k','craftt')\n",
    "tree.add_edge('s','craftt')\n",
    "tree.add_edge('craftt','t')"
   ]
  },
  {
   "cell_type": "code",
   "execution_count": 16,
   "id": "14312a66",
   "metadata": {},
   "outputs": [
    {
     "data": {
      "text/plain": [
       "{'type': 'tnode', 'value': 'have'}"
      ]
     },
     "execution_count": 16,
     "metadata": {},
     "output_type": "execute_result"
    }
   ],
   "source": [
    "tree.nodes.get(\"k\")"
   ]
  },
  {
   "cell_type": "code",
   "execution_count": 17,
   "id": "56a2cc7b",
   "metadata": {},
   "outputs": [],
   "source": [
    "nx.write_gml(tree, \"test.gml\")"
   ]
  },
  {
   "cell_type": "code",
   "execution_count": 8,
   "id": "ff3e8143",
   "metadata": {},
   "outputs": [
    {
     "name": "stdout",
     "output_type": "stream",
     "text": [
      "['k', 'p', 'q', 't', 's', 'craftt', 'craftk']\n"
     ]
    }
   ],
   "source": [
    "# Read a gml \n",
    "\n",
    "filename = \"../agents/biplex/bias/crafting_knowledge.gml\"\n",
    "read_in_tree = nx.read_gml(filename)\n",
    "\n",
    "node = read_in_tree.nodes.get('k')\n",
    "print(read_in_tree.nodes)\n"
   ]
  },
  {
   "cell_type": "code",
   "execution_count": 13,
   "id": "330c01ab",
   "metadata": {},
   "outputs": [
    {
     "data": {
      "text/plain": [
       "['craftk']"
      ]
     },
     "execution_count": 13,
     "metadata": {},
     "output_type": "execute_result"
    }
   ],
   "source": [
    "list(read_in_tree.predecessors('k'))\n"
   ]
  },
  {
   "cell_type": "code",
   "execution_count": 49,
   "id": "4bbb4d1d",
   "metadata": {},
   "outputs": [],
   "source": [
    "# creating a new domain file with craft action\n",
    "import uuid \n",
    "\n",
    "def _create_new_domain_file(graph, anode, current_domain):\n",
    "    action_symbol = f\"\\t(:action {anode}\\n\"\n",
    "    precon_types = list(graph.predecessors(str(anode)))\n",
    "    precons = []\n",
    "    effects = []\n",
    "    params = []\n",
    "    for p in precon_types:\n",
    "        variable = \"?x\"+str(uuid.uuid4())[:3]\n",
    "        param = f\"{variable}-{p}\"\n",
    "        pred = f\"(have {param})\"\n",
    "        effp = f\"(not {pred})\"\n",
    "        precons.append(pred)\n",
    "        effects.append(effp)\n",
    "        params.append(param)\n",
    "    \n",
    "    eff_types = list(graph.successors(str(anode)))\n",
    "    for e in eff_types:\n",
    "        variable = \"?y\"+str(uuid.uuid4())[:3]\n",
    "        param = f\"{variable}-{e}\"\n",
    "        effp = f\"(have {variable}-{e})\"\n",
    "        effects.append(effp)\n",
    "        params.insert(0,param)\n",
    "        \n",
    "    param_line = f\"\\t\\t:parameters ({' '.join(params)})\\n\"\n",
    "    precon_line = f\"\\t\\t:precondition (and {' '.join(precons)})\\n\"\n",
    "    effects_line = f\"\\t\\t:effect (and {' '.join(effects)}))\"\n",
    "    \n",
    "    action_entry = action_symbol+param_line+precon_line+effects_line\n",
    "    \n",
    "    new_domain_filename = current_domain.split(\".pddl\")[0]+\"_gen.pddl\"\n",
    "    with open(current_domain,'r') as current, open(new_domain_filename,'w') as secondfile:\n",
    "        lines = current.readlines()\n",
    "        for line in lines[:-1]:\n",
    "            secondfile.write(line)\n",
    "        secondfile.write(\"\\n\")\n",
    "        secondfile.write(action_entry)\n",
    "        secondfile.write(\"\\n\")\n",
    "        secondfile.write(\")\")\n",
    "\n",
    "current_domain = \"../agents/biplex/bias/treasure.pddl\"\n",
    "_create_new_domain_file(read_in_tree, \"craftk\", current_domain)"
   ]
  },
  {
   "cell_type": "code",
   "execution_count": 25,
   "id": "846c1bb9",
   "metadata": {},
   "outputs": [
    {
     "data": {
      "text/plain": [
       "'7d5'"
      ]
     },
     "execution_count": 25,
     "metadata": {},
     "output_type": "execute_result"
    }
   ],
   "source": [
    "import uuid \n",
    "str(uuid.uuid4())[:3]"
   ]
  },
  {
   "cell_type": "code",
   "execution_count": 50,
   "id": "452351e0",
   "metadata": {},
   "outputs": [
    {
     "ename": "NameError",
     "evalue": "name 'env' is not defined",
     "output_type": "error",
     "traceback": [
      "\u001b[0;31m---------------------------------------------------------------------------\u001b[0m",
      "\u001b[0;31mNameError\u001b[0m                                 Traceback (most recent call last)",
      "\u001b[0;32m/tmp/ipykernel_66788/4064511458.py\u001b[0m in \u001b[0;36m<module>\u001b[0;34m\u001b[0m\n\u001b[0;32m----> 1\u001b[0;31m \u001b[0menv\u001b[0m\u001b[0;34m.\u001b[0m\u001b[0mobjects\u001b[0m\u001b[0;34m(\u001b[0m\u001b[0;34m)\u001b[0m\u001b[0;34m\u001b[0m\u001b[0;34m\u001b[0m\u001b[0m\n\u001b[0m",
      "\u001b[0;31mNameError\u001b[0m: name 'env' is not defined"
     ]
    }
   ],
   "source": [
    "env.objects()"
   ]
  },
  {
   "cell_type": "markdown",
   "id": "994edac5",
   "metadata": {},
   "source": [
    "# Generating large problems for TreasureWorld\n",
    "\n",
    "SEE PDDLGYM notebooks folder for this"
   ]
  },
  {
   "cell_type": "code",
   "execution_count": 1,
   "id": "0cb7d142",
   "metadata": {},
   "outputs": [],
   "source": [
    "from pyperplan.pddl.parser import Parser"
   ]
  },
  {
   "cell_type": "code",
   "execution_count": 15,
   "id": "c008ca15",
   "metadata": {},
   "outputs": [],
   "source": [
    "# Given a domain file, create a bare version (removing all craft actions)\n",
    "\n",
    "treasure = \"../domains/treasure.pddl\"\n",
    "parser = Parser(treasure)\n",
    "domain = parser.parse_domain()"
   ]
  },
  {
   "cell_type": "markdown",
   "id": "c880c8d0",
   "metadata": {},
   "source": [
    "# Crafting trees for Pancake"
   ]
  },
  {
   "cell_type": "code",
   "execution_count": 1,
   "id": "5504ab85",
   "metadata": {},
   "outputs": [],
   "source": [
    "import networkx as nx"
   ]
  },
  {
   "cell_type": "code",
   "execution_count": 2,
   "id": "7dae7f76",
   "metadata": {},
   "outputs": [],
   "source": [
    "tree = nx.DiGraph()\n",
    "\n",
    "list_of_types = [\n",
    "        'spw',\n",
    "        'apw',\n",
    "        'pw',\n",
    "        'wl',\n",
    "        'vpw',\n",
    "        'ly',\n",
    "        'yfl',\n",
    "        'tl',\n",
    "        'sl',\n",
    "        'yftl',\n",
    "        'syftl',\n",
    "        'pwva',\n",
    "        'spwva',\n",
    "        'yvaftl',\n",
    "        'syvaftl',\n",
    "        'vaftyu',\n",
    "        'svaftyu'\n",
    "]\n",
    "\n",
    "for item in list_of_types:\n",
    "    tree.add_node(item, type='tnode', value='have')\n",
    "\n",
    "list_of_actions = [\n",
    "       'mixeggbatter1',\n",
    "     'mixeggbatter2',\n",
    "     'mixdryingredients1',\n",
    "     'mixdryingredients2',\n",
    "     'mixpancakebatter1',\n",
    "     'mixpancakebatter2',\n",
    "     'mixpancakebatter3',\n",
    "     'mixpancakebatter3a',\n",
    "     'mixpancakebatter4',\n",
    "     'mixpancakebatter4a',\n",
    "     'mixpancakebatter5',\n",
    "     'mixpancakebatter5a',  \n",
    "     'cookpancake1',\n",
    "     'cookpancake2',\n",
    "     'cookpancake3',\n",
    "     'drizzlepancake1',\n",
    "     'drizzlepancake2'\n",
    "]\n",
    "\n",
    "for item in list_of_actions:\n",
    "    tree.add_node(item, type='anode')\n",
    "\n",
    "# EGG BATTER\n",
    "    \n",
    "tree.add_edge('mixeggbatter1', 'yftl')\n",
    "tree.add_edge('yfl','mixeggbatter1')\n",
    "tree.add_edge('tl','mixeggbatter1')\n",
    "tree.add_edge('wl','mixeggbatter1')\n",
    "\n",
    "tree.add_edge('mixeggbatter2', 'syftl')\n",
    "tree.add_edge('yfl','mixeggbatter2')\n",
    "tree.add_edge('tl','mixeggbatter2')\n",
    "tree.add_edge('wl','mixeggbatter2')\n",
    "tree.add_edge('spw','mixeggbatter2')\n",
    "\n",
    "\n",
    "# DRY INGREDIENTS\n",
    "\n",
    "tree.add_edge('mixdryingredients1', 'pwva')\n",
    "tree.add_edge('pw','mixdryingredients1')\n",
    "tree.add_edge('vpw','mixdryingredients1')\n",
    "tree.add_edge('apw','mixdryingredients1')\n",
    "\n",
    "tree.add_edge('mixdryingredients2', 'spwva')\n",
    "tree.add_edge('pw','mixdryingredients2')\n",
    "tree.add_edge('vpw','mixdryingredients2')\n",
    "tree.add_edge('apw','mixdryingredients2')\n",
    "tree.add_edge('spw','mixdryingredients2')\n",
    "\n",
    "\n",
    "# PANCAKE BATTER\n",
    "\n",
    "tree.add_edge('mixpancakebatter1', 'yvaftl')\n",
    "tree.add_edge('pwva', 'mixpancakebatter1')\n",
    "tree.add_edge('yftl', 'mixpancakebatter1')\n",
    "\n",
    "tree.add_edge('mixpancakebatter2', 'syvaftl')\n",
    "tree.add_edge('pwva', 'mixpancakebatter2')\n",
    "tree.add_edge('yftl', 'mixpancakebatter2')\n",
    "tree.add_edge('spw', 'mixpancakebatter2')\n",
    "\n",
    "tree.add_edge('mixpancakebatter3', 'syvaftl')\n",
    "tree.add_edge('spwva', 'mixpancakebatter3')\n",
    "tree.add_edge('yftl', 'mixpancakebatter3')\n",
    "\n",
    "tree.add_edge('mixpancakebatter3a', 'syvaftl')\n",
    "tree.add_edge('spwva', 'mixpancakebatter3a')\n",
    "tree.add_edge('yftl', 'mixpancakebatter3a')\n",
    "tree.add_edge('spw', 'mixpancakebatter3a')\n",
    "\n",
    "tree.add_edge('mixpancakebatter4', 'syvaftl')\n",
    "tree.add_edge('spwva', 'mixpancakebatter4')\n",
    "tree.add_edge('syftl', 'mixpancakebatter4')\n",
    "\n",
    "tree.add_edge('mixpancakebatter4a', 'syvaftl')\n",
    "tree.add_edge('spwva', 'mixpancakebatter4a')\n",
    "tree.add_edge('syftl', 'mixpancakebatter4a')\n",
    "tree.add_edge('spw', 'mixpancakebatter4a')\n",
    "\n",
    "tree.add_edge('mixpancakebatter5', 'syvaftl')\n",
    "tree.add_edge('pwva', 'mixpancakebatter5')\n",
    "tree.add_edge('syftl', 'mixpancakebatter5')\n",
    "\n",
    "tree.add_edge('mixpancakebatter5a', 'syvaftl')\n",
    "tree.add_edge('pwva', 'mixpancakebatter5a')\n",
    "tree.add_edge('syftl', 'mixpancakebatter5a')\n",
    "tree.add_edge('spw', 'mixpancakebatter5a')\n",
    "\n",
    "tree.add_edge('cookpancake1', 'vaftyu')\n",
    "tree.add_edge('yvaftl', 'cookpancake1')\n",
    "tree.add_edge('ly', 'cookpancake1')\n",
    "\n",
    "tree.add_edge('cookpancake2', 'svaftyu')\n",
    "tree.add_edge('syvaftl', 'cookpancake2')\n",
    "tree.add_edge('ly', 'cookpancake2')\n",
    "\n",
    "tree.add_edge('cookpancake3', 'svaftyu')\n",
    "tree.add_edge('yvaftl', 'cookpancake3')\n",
    "tree.add_edge('ly', 'cookpancake3')\n",
    "tree.add_edge('spw', 'cookpancake3')\n",
    "\n",
    "tree.add_edge('drizzlepancake1', 'svaftyu')\n",
    "tree.add_edge('vaftyu', 'drizzlepancake1')\n",
    "tree.add_edge('sl', 'drizzlepancake1')\n",
    "\n",
    "tree.add_edge('drizzlepancake1', 'svaftyu')\n",
    "tree.add_edge('svaftyu', 'drizzlepancake1')\n",
    "tree.add_edge('sl', 'drizzlepancake1')\n"
   ]
  },
  {
   "cell_type": "code",
   "execution_count": 3,
   "id": "16c100c8",
   "metadata": {},
   "outputs": [],
   "source": [
    "nx.write_gml(tree, \"test.gml\")"
   ]
  },
  {
   "cell_type": "code",
   "execution_count": null,
   "id": "8ef85fad",
   "metadata": {},
   "outputs": [],
   "source": []
  },
  {
   "cell_type": "code",
   "execution_count": null,
   "id": "aa3b3e61",
   "metadata": {},
   "outputs": [],
   "source": []
  },
  {
   "cell_type": "code",
   "execution_count": null,
   "id": "4868cdbf",
   "metadata": {},
   "outputs": [],
   "source": []
  },
  {
   "cell_type": "code",
   "execution_count": null,
   "id": "bc785822",
   "metadata": {},
   "outputs": [],
   "source": []
  },
  {
   "cell_type": "code",
   "execution_count": null,
   "id": "fe49e991",
   "metadata": {},
   "outputs": [],
   "source": []
  },
  {
   "cell_type": "code",
   "execution_count": null,
   "id": "0a1021ab",
   "metadata": {},
   "outputs": [],
   "source": []
  },
  {
   "cell_type": "code",
   "execution_count": null,
   "id": "13164d7a",
   "metadata": {},
   "outputs": [],
   "source": []
  },
  {
   "cell_type": "code",
   "execution_count": null,
   "id": "6b99aca8",
   "metadata": {},
   "outputs": [],
   "source": []
  },
  {
   "cell_type": "code",
   "execution_count": null,
   "id": "96b5492d",
   "metadata": {},
   "outputs": [],
   "source": []
  },
  {
   "cell_type": "code",
   "execution_count": null,
   "id": "3a028cfc",
   "metadata": {},
   "outputs": [],
   "source": []
  },
  {
   "cell_type": "code",
   "execution_count": null,
   "id": "97528aa8",
   "metadata": {},
   "outputs": [],
   "source": []
  },
  {
   "cell_type": "code",
   "execution_count": null,
   "id": "a9e6be4c",
   "metadata": {},
   "outputs": [],
   "source": []
  },
  {
   "cell_type": "code",
   "execution_count": null,
   "id": "b3a92fe5",
   "metadata": {},
   "outputs": [],
   "source": []
  },
  {
   "cell_type": "code",
   "execution_count": null,
   "id": "043523e0",
   "metadata": {},
   "outputs": [],
   "source": []
  },
  {
   "cell_type": "code",
   "execution_count": null,
   "id": "25bb171e",
   "metadata": {},
   "outputs": [],
   "source": []
  },
  {
   "cell_type": "code",
   "execution_count": null,
   "id": "cd524572",
   "metadata": {},
   "outputs": [],
   "source": []
  },
  {
   "cell_type": "code",
   "execution_count": null,
   "id": "78da061a",
   "metadata": {},
   "outputs": [],
   "source": []
  },
  {
   "cell_type": "code",
   "execution_count": null,
   "id": "2d279922",
   "metadata": {},
   "outputs": [],
   "source": []
  },
  {
   "cell_type": "code",
   "execution_count": null,
   "id": "82c36ba4",
   "metadata": {},
   "outputs": [],
   "source": []
  },
  {
   "cell_type": "code",
   "execution_count": null,
   "id": "cffd1ad3",
   "metadata": {},
   "outputs": [],
   "source": []
  },
  {
   "cell_type": "code",
   "execution_count": null,
   "id": "9d50cd5d",
   "metadata": {},
   "outputs": [],
   "source": []
  },
  {
   "cell_type": "code",
   "execution_count": null,
   "id": "a8323afc",
   "metadata": {},
   "outputs": [],
   "source": []
  },
  {
   "cell_type": "code",
   "execution_count": null,
   "id": "498e80e6",
   "metadata": {},
   "outputs": [],
   "source": []
  },
  {
   "cell_type": "code",
   "execution_count": null,
   "id": "b29e400f",
   "metadata": {},
   "outputs": [],
   "source": []
  },
  {
   "cell_type": "code",
   "execution_count": null,
   "id": "a6c180b3",
   "metadata": {},
   "outputs": [],
   "source": []
  },
  {
   "cell_type": "code",
   "execution_count": null,
   "id": "f410d3db",
   "metadata": {},
   "outputs": [],
   "source": []
  },
  {
   "cell_type": "code",
   "execution_count": null,
   "id": "4fdbebb6",
   "metadata": {},
   "outputs": [],
   "source": []
  },
  {
   "cell_type": "code",
   "execution_count": null,
   "id": "534dfbee",
   "metadata": {},
   "outputs": [],
   "source": []
  }
 ],
 "metadata": {
  "kernelspec": {
   "display_name": "Python 3 (ipykernel)",
   "language": "python",
   "name": "python3"
  },
  "language_info": {
   "codemirror_mode": {
    "name": "ipython",
    "version": 3
   },
   "file_extension": ".py",
   "mimetype": "text/x-python",
   "name": "python",
   "nbconvert_exporter": "python",
   "pygments_lexer": "ipython3",
   "version": "3.8.5"
  },
  "toc": {
   "base_numbering": 1,
   "nav_menu": {},
   "number_sections": true,
   "sideBar": true,
   "skip_h1_title": false,
   "title_cell": "Table of Contents",
   "title_sidebar": "Contents",
   "toc_cell": false,
   "toc_position": {
    "height": "calc(100% - 180px)",
    "left": "10px",
    "top": "150px",
    "width": "435.167px"
   },
   "toc_section_display": true,
   "toc_window_display": true
  }
 },
 "nbformat": 4,
 "nbformat_minor": 5
}
