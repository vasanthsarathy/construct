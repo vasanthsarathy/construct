{
 "cells": [
  {
   "cell_type": "markdown",
   "id": "ae03b82b",
   "metadata": {},
   "source": [
    "# Wrappers\n",
    "\n",
    "pddlgym expects certain specific class info \n",
    "\n",
    "`StringWrapper` allows us to give this as a string. E.g., `\"move(tree1_7:tree1, crafting_table1_5:crafting_table1)\"`\n",
    "\n",
    "We need a pyperplanWrapper \n",
    "\n",
    "- actions being supplied as string `(move tree1_7 crafting_table1_5)`\n",
    "- states being read in as frozenset of predicates "
   ]
  },
  {
   "cell_type": "code",
   "execution_count": 2,
   "id": "2f56865f",
   "metadata": {},
   "outputs": [],
   "source": [
    "# String Wrappers \n",
    "## For stringifying stuff to pddlgym\n",
    "\n",
    "import gym\n",
    "from pddlgym.structs import Predicate, Literal, TypedEntity, Type\n",
    "\n",
    "class StringWrapper(gym.Wrapper):\n",
    "    \"\"\"\n",
    "    Allows for providing actions as strings rather than the pddlgym representation\n",
    "    \"\"\"\n",
    "    def __init__(self, env):\n",
    "        super().__init__(env)\n",
    "        self.env = env\n",
    "        self.current_state = None\n",
    "        \n",
    "    def reset(self, **kwargs):\n",
    "        obs = self.env.reset(**kwargs)\n",
    "        self.current_state = obs\n",
    "        return obs\n",
    "\n",
    "    def step(self,action_str):\n",
    "        action = self._str_to_action(action_str)\n",
    "        print(f\"Action: {action}\", type(action))\n",
    "        next_state, reward, done, info = self.env.step(action)\n",
    "        self.current_state = next_state\n",
    "        return next_state, reward, done, info\n",
    "    \n",
    "    def observe(self):\n",
    "        return self.current_state\n",
    "\n",
    "    def _str_to_action(self, action_str):\n",
    "        name = action_str.split(\"(\")[0]\n",
    "        args = action_str.split(\"(\")[1].split(\")\")[0].split(\",\")\n",
    "        objs = []\n",
    "        for arg in args:\n",
    "            arg = arg.replace(\" \",\"\")\n",
    "            obj_type_str = arg.split(\":\")[1]\n",
    "            obj_const_str = arg.split(\":\")[0]\n",
    "\n",
    "            obj_type = Type(obj_type_str)\n",
    "            obj_const = obj_type(obj_const_str)\n",
    "            objs.append(obj_const)\n",
    "        actionP = Predicate(name, len(args))\n",
    "        action = Literal(actionP, objs)\n",
    "        return action\n",
    "     "
   ]
  },
  {
   "cell_type": "code",
   "execution_count": 4,
   "id": "bcf8df87",
   "metadata": {},
   "outputs": [
    {
     "name": "stdout",
     "output_type": "stream",
     "text": [
      "(State(literals=frozenset({in(s1:s,b1:b), inworld(q1:q), inworld(p1:p), inworld(b1:b), inworld(p2:p), in(s2:s,b2:b), at(r1:r), inworld(b3:b), inworld(p5:p), inworld(p3:p), inworld(r2:s), inworld(r1:r), inworld(q2:q), inworld(q3:q), inworld(p4:p), inworld(q5:q), inworld(b2:b), inworld(q4:q)}), objects=frozenset({p3:p, q3:q, r1:r, p2:p, t1:t, s1:s, k1:k, p4:p, b3:b, b1:b, q1:q, q4:q, r2:s, b2:b, q2:q, s2:s, p5:p, q5:q, k2:k, p1:p, -r:s}), goal=have(t1:t)), {'problem_file': '/home/vsarathy/.cache/pypoetry/virtualenvs/construct-VivzdgmF-py3.8/lib/python3.8/site-packages/pddlgym/pddl/treasure/problem01.pddl', 'domain_file': '/home/vsarathy/.cache/pypoetry/virtualenvs/construct-VivzdgmF-py3.8/lib/python3.8/site-packages/pddlgym/pddl/treasure.pddl'})\n"
     ]
    }
   ],
   "source": [
    "import pddlgym\n",
    "\n",
    "env = pddlgym.make('PDDLEnvTreasure-v0')\n",
    "env = StringWrapper(env)\n",
    "env.reset()\n",
    "obs = env.observe()\n",
    "print(obs)"
   ]
  },
  {
   "cell_type": "code",
   "execution_count": 17,
   "id": "5f235cee",
   "metadata": {},
   "outputs": [],
   "source": [
    "# pyperplan wrapper \n",
    "## Wrapper to \n",
    "\n",
    "import gym\n",
    "import pddlgym.structs as pgym \n",
    "import pyperplan.pddl.pddl as pyper\n",
    "\n",
    "class PyperWrapper(gym.Wrapper):\n",
    "    \"\"\"\n",
    "    Allows for translating between pddlgym and pyperplan representations.\n",
    "    Can run pyperplan solutions in pddlgym \n",
    "    Can read pddlgym output in pyperplan state representation \n",
    "    \"\"\"\n",
    "    def __init__(self, env):\n",
    "        super().__init__(env)\n",
    "        self.env = env\n",
    "        self.current_state = None  # going to be in default pddlgym representation\n",
    "        self.root_object_type = pyper.Type(\"object\",None)\n",
    "        self.history = [] #In pyperplan format\n",
    "        \n",
    "    def reset(self, **kwargs):\n",
    "        obs = self.env.reset(**kwargs)\n",
    "        self.current_state = obs\n",
    "        return ob\n",
    "    \n",
    "    def observe(self):\n",
    "        return self._obs_pddlgym_to_pyper(self.current_state)\n",
    "    \n",
    "    def step(self,action):\n",
    "        action_pddlgym = self._action_pyper_to_pddlgym(action)\n",
    "        next_state, reward, done, info = self.env.step(action_pddlgym)\n",
    "        self.history.append(action)\n",
    "        self.current_state = next_state\n",
    "        \n",
    "        return self.observe(), reward, done, info\n",
    "    \n",
    "    \n",
    "    def _action_pyper_to_pddlgym(self, action):\n",
    "        \"\"\"\n",
    "        (move p3 k1) --> pddlgym representation\n",
    "        \"\"\" \n",
    "        name = action.replace(\"(\",\"\").replace(\")\",\"\").split(\" \")[0]\n",
    "        \n",
    "        objs = set(self.current_state[0].objects)\n",
    "        args = action.replace(\"(\",\"\").replace(\")\",\"\").split(\" \")[1:]\n",
    "        arity = len(args)\n",
    "        typed_args = [ (lambda x: [x for x in objs if x == y][0])(y) for y in args]\n",
    "        \n",
    "        action_pddlgym = pgym.Literal(pgym.Predicate(name, arity), typed_args)\n",
    "        return action_pddlgym\n",
    "        \n",
    "        \n",
    "    def _obs_pddlgym_to_pyper(self, obs):\n",
    "        predicates = []\n",
    "        for item in set(obs[0].literals):\n",
    "            name = str(item).split(\"(\")[0]\n",
    "            list_args_str = str(item).split(\"(\")[1].split(\")\")[0].split(\",\")\n",
    "            signature = [(x.split(\":\")[0], pyper.Type(x.split(\":\")[1], self.root_object_type)) for x in list_args_str]\n",
    "            pred = pyper.Predicate(name, signature)\n",
    "            predicates.append(pred)\n",
    "        return predicates\n",
    "    \n",
    "    \n",
    "        # DEPRECATED\n",
    "    def _get_type(self, constant):\n",
    "        # look at current state \n",
    "        obj_strs = [str(x) for x in set(self.current_state[0].objects)]\n",
    "        obj_types = [x.split(\":\")[1] for x in obj_strs if constant+\":\" in x]\n",
    "        if len(obj_types) == 1:\n",
    "            return obj_types[0]\n",
    "        raise ValueError\n",
    "    "
   ]
  },
  {
   "cell_type": "code",
   "execution_count": 19,
   "id": "d27b9454",
   "metadata": {},
   "outputs": [
    {
     "data": {
      "text/plain": [
       "[in[('s1', s), ('b1', b)],\n",
       " inworld[('q1', q)],\n",
       " inworld[('p1', p)],\n",
       " inworld[('b1', b)],\n",
       " inworld[('p2', p)],\n",
       " in[('s2', s), ('b2', b)],\n",
       " at[('r1', r)],\n",
       " inworld[('b3', b)],\n",
       " inworld[('p5', p)],\n",
       " inworld[('p3', p)],\n",
       " inworld[('r2', s)],\n",
       " inworld[('r1', r)],\n",
       " inworld[('q2', q)],\n",
       " inworld[('q3', q)],\n",
       " inworld[('p4', p)],\n",
       " inworld[('q5', q)],\n",
       " inworld[('b2', b)],\n",
       " inworld[('q4', q)]]"
      ]
     },
     "execution_count": 19,
     "metadata": {},
     "output_type": "execute_result"
    }
   ],
   "source": [
    "import pddlgym\n",
    "\n",
    "env = pddlgym.make('PDDLEnvTreasure-v0')\n",
    "env = PyperWrapper(env)\n",
    "env.reset()\n",
    "env.observe()"
   ]
  },
  {
   "cell_type": "code",
   "execution_count": null,
   "id": "f5865a1e",
   "metadata": {},
   "outputs": [],
   "source": []
  },
  {
   "cell_type": "code",
   "execution_count": null,
   "id": "bd49bd39",
   "metadata": {},
   "outputs": [],
   "source": []
  },
  {
   "cell_type": "code",
   "execution_count": null,
   "id": "0e5f5dfe",
   "metadata": {},
   "outputs": [],
   "source": []
  },
  {
   "cell_type": "code",
   "execution_count": null,
   "id": "c3c5d562",
   "metadata": {},
   "outputs": [],
   "source": []
  },
  {
   "cell_type": "code",
   "execution_count": null,
   "id": "cd01da48",
   "metadata": {},
   "outputs": [],
   "source": []
  },
  {
   "cell_type": "code",
   "execution_count": null,
   "id": "0d85ae2e",
   "metadata": {},
   "outputs": [],
   "source": []
  },
  {
   "cell_type": "code",
   "execution_count": null,
   "id": "aa3e1ad9",
   "metadata": {},
   "outputs": [],
   "source": []
  },
  {
   "cell_type": "code",
   "execution_count": null,
   "id": "58c31830",
   "metadata": {},
   "outputs": [],
   "source": []
  },
  {
   "cell_type": "code",
   "execution_count": null,
   "id": "15a77ae8",
   "metadata": {},
   "outputs": [],
   "source": []
  },
  {
   "cell_type": "code",
   "execution_count": null,
   "id": "29904030",
   "metadata": {},
   "outputs": [],
   "source": []
  },
  {
   "cell_type": "code",
   "execution_count": null,
   "id": "43afe905",
   "metadata": {},
   "outputs": [],
   "source": []
  },
  {
   "cell_type": "code",
   "execution_count": null,
   "id": "9683a8ac",
   "metadata": {},
   "outputs": [],
   "source": []
  },
  {
   "cell_type": "code",
   "execution_count": null,
   "id": "cbf7552d",
   "metadata": {},
   "outputs": [],
   "source": []
  },
  {
   "cell_type": "code",
   "execution_count": null,
   "id": "23f5157b",
   "metadata": {},
   "outputs": [],
   "source": []
  },
  {
   "cell_type": "code",
   "execution_count": null,
   "id": "7d82f61a",
   "metadata": {},
   "outputs": [],
   "source": []
  },
  {
   "cell_type": "code",
   "execution_count": null,
   "id": "f6208525",
   "metadata": {},
   "outputs": [],
   "source": []
  },
  {
   "cell_type": "code",
   "execution_count": null,
   "id": "44f560b6",
   "metadata": {},
   "outputs": [],
   "source": []
  },
  {
   "cell_type": "code",
   "execution_count": null,
   "id": "bf4f7a1e",
   "metadata": {},
   "outputs": [],
   "source": []
  },
  {
   "cell_type": "code",
   "execution_count": null,
   "id": "4faa05a9",
   "metadata": {},
   "outputs": [],
   "source": []
  },
  {
   "cell_type": "code",
   "execution_count": null,
   "id": "0fd795db",
   "metadata": {},
   "outputs": [],
   "source": []
  },
  {
   "cell_type": "code",
   "execution_count": null,
   "id": "54b14c30",
   "metadata": {},
   "outputs": [],
   "source": []
  },
  {
   "cell_type": "code",
   "execution_count": null,
   "id": "51ef1e5f",
   "metadata": {},
   "outputs": [],
   "source": []
  },
  {
   "cell_type": "code",
   "execution_count": null,
   "id": "ad7f792a",
   "metadata": {},
   "outputs": [],
   "source": []
  },
  {
   "cell_type": "code",
   "execution_count": null,
   "id": "3281b254",
   "metadata": {},
   "outputs": [],
   "source": []
  },
  {
   "cell_type": "code",
   "execution_count": null,
   "id": "d6b3a8c6",
   "metadata": {},
   "outputs": [],
   "source": []
  },
  {
   "cell_type": "code",
   "execution_count": null,
   "id": "657bff6d",
   "metadata": {},
   "outputs": [],
   "source": []
  },
  {
   "cell_type": "code",
   "execution_count": null,
   "id": "64f2d270",
   "metadata": {},
   "outputs": [],
   "source": []
  },
  {
   "cell_type": "code",
   "execution_count": null,
   "id": "5b1b023b",
   "metadata": {},
   "outputs": [],
   "source": []
  },
  {
   "cell_type": "code",
   "execution_count": null,
   "id": "b7c7d7be",
   "metadata": {},
   "outputs": [],
   "source": []
  },
  {
   "cell_type": "code",
   "execution_count": null,
   "id": "ce94a36b",
   "metadata": {},
   "outputs": [],
   "source": []
  },
  {
   "cell_type": "code",
   "execution_count": null,
   "id": "51bb1e04",
   "metadata": {},
   "outputs": [],
   "source": []
  },
  {
   "cell_type": "code",
   "execution_count": null,
   "id": "97ea3528",
   "metadata": {},
   "outputs": [],
   "source": []
  },
  {
   "cell_type": "code",
   "execution_count": null,
   "id": "54d04924",
   "metadata": {},
   "outputs": [],
   "source": []
  },
  {
   "cell_type": "code",
   "execution_count": null,
   "id": "e8a87004",
   "metadata": {},
   "outputs": [],
   "source": []
  },
  {
   "cell_type": "code",
   "execution_count": null,
   "id": "21a34178",
   "metadata": {},
   "outputs": [],
   "source": []
  },
  {
   "cell_type": "code",
   "execution_count": null,
   "id": "b8f681e3",
   "metadata": {},
   "outputs": [],
   "source": []
  },
  {
   "cell_type": "code",
   "execution_count": null,
   "id": "4542dedc",
   "metadata": {},
   "outputs": [],
   "source": []
  },
  {
   "cell_type": "code",
   "execution_count": null,
   "id": "bf73d074",
   "metadata": {},
   "outputs": [],
   "source": []
  },
  {
   "cell_type": "code",
   "execution_count": null,
   "id": "c12a0fa4",
   "metadata": {},
   "outputs": [],
   "source": []
  }
 ],
 "metadata": {
  "kernelspec": {
   "display_name": "Python 3 (ipykernel)",
   "language": "python",
   "name": "python3"
  },
  "language_info": {
   "codemirror_mode": {
    "name": "ipython",
    "version": 3
   },
   "file_extension": ".py",
   "mimetype": "text/x-python",
   "name": "python",
   "nbconvert_exporter": "python",
   "pygments_lexer": "ipython3",
   "version": "3.8.5"
  },
  "toc": {
   "base_numbering": 1,
   "nav_menu": {},
   "number_sections": true,
   "sideBar": true,
   "skip_h1_title": false,
   "title_cell": "Table of Contents",
   "title_sidebar": "Contents",
   "toc_cell": false,
   "toc_position": {},
   "toc_section_display": true,
   "toc_window_display": true
  }
 },
 "nbformat": 4,
 "nbformat_minor": 5
}
